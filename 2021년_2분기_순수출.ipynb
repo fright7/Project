{
  "nbformat": 4,
  "nbformat_minor": 0,
  "metadata": {
    "colab": {
      "name": "2021년 2분기 순수출",
      "provenance": [],
      "collapsed_sections": [],
      "mount_file_id": "1X3pmasxuGKZVNjy-8ZC_HWzJEGSBIsEa",
      "authorship_tag": "ABX9TyOibmROnQ2oVDUV/gTN/9hf",
      "include_colab_link": true
    },
    "kernelspec": {
      "name": "python3",
      "display_name": "Python 3"
    },
    "language_info": {
      "name": "python"
    }
  },
  "cells": [
    {
      "cell_type": "markdown",
      "metadata": {
        "id": "view-in-github",
        "colab_type": "text"
      },
      "source": [
        "<a href=\"https://colab.research.google.com/github/fright7/Project/blob/master/2021%EB%85%84_2%EB%B6%84%EA%B8%B0_%EC%88%9C%EC%88%98%EC%B6%9C.ipynb\" target=\"_parent\"><img src=\"https://colab.research.google.com/assets/colab-badge.svg\" alt=\"Open In Colab\"/></a>"
      ]
    },
    {
      "cell_type": "code",
      "metadata": {
        "id": "sU6iar_VZOVu"
      },
      "source": [
        "import pandas as pd\n",
        "import seaborn as sns\n",
        "import numpy as np\n",
        "import re"
      ],
      "execution_count": 73,
      "outputs": []
    },
    {
      "cell_type": "code",
      "metadata": {
        "id": "FAiNcS3LZTlC"
      },
      "source": [
        "df1 = pd.read_csv(\"/content/drive/MyDrive/Dataset/경제데이터/1_3.csv\",encoding=\"euc-kr\")\n",
        "df2 = pd.read_csv(\"/content/drive/MyDrive/Dataset/경제데이터/4_6.csv\",encoding=\"euc-kr\")"
      ],
      "execution_count": 5,
      "outputs": []
    },
    {
      "cell_type": "code",
      "metadata": {
        "id": "rdNbJdrsbtOY"
      },
      "source": [
        "def clean_dataframe(df):\n",
        "\n",
        "  to_float = df.iloc[:,3:].replace(\"\\,\",\"\",regex=True).astype(float)\n",
        "  result = pd.concat([df.품목명,to_float],axis=1)\n",
        "\n",
        "  return result  "
      ],
      "execution_count": 109,
      "outputs": []
    },
    {
      "cell_type": "code",
      "metadata": {
        "id": "8o0jEchkZX-E"
      },
      "source": [
        "df1 = clean_dataframe(df1)\n",
        "df2 = clean_dataframe(df2)"
      ],
      "execution_count": 112,
      "outputs": []
    },
    {
      "cell_type": "code",
      "metadata": {
        "colab": {
          "base_uri": "https://localhost:8080/",
          "height": 419
        },
        "id": "g-6LNsPGpfWW",
        "outputId": "9f88d55a-4270-4eeb-e115-b693883655cb"
      },
      "source": [
        "df1"
      ],
      "execution_count": 148,
      "outputs": [
        {
          "output_type": "execute_result",
          "data": {
            "text/html": [
              "<div>\n",
              "<style scoped>\n",
              "    .dataframe tbody tr th:only-of-type {\n",
              "        vertical-align: middle;\n",
              "    }\n",
              "\n",
              "    .dataframe tbody tr th {\n",
              "        vertical-align: top;\n",
              "    }\n",
              "\n",
              "    .dataframe thead th {\n",
              "        text-align: right;\n",
              "    }\n",
              "</style>\n",
              "<table border=\"1\" class=\"dataframe\">\n",
              "  <thead>\n",
              "    <tr style=\"text-align: right;\">\n",
              "      <th></th>\n",
              "      <th>품목명</th>\n",
              "      <th>수출금액</th>\n",
              "      <th>수입금액</th>\n",
              "      <th>무역수지</th>\n",
              "    </tr>\n",
              "  </thead>\n",
              "  <tbody>\n",
              "    <tr>\n",
              "      <th>0</th>\n",
              "      <td>살아 있는 동물</td>\n",
              "      <td>550.0</td>\n",
              "      <td>4480.0</td>\n",
              "      <td>-3930.0</td>\n",
              "    </tr>\n",
              "    <tr>\n",
              "      <th>1</th>\n",
              "      <td>육과 식용 설육(屑肉)</td>\n",
              "      <td>4326.0</td>\n",
              "      <td>556713.0</td>\n",
              "      <td>-552387.0</td>\n",
              "    </tr>\n",
              "    <tr>\n",
              "      <th>2</th>\n",
              "      <td>어류ㆍ갑각류ㆍ연체동물과 그 밖의 수생(水生) 무척추동물</td>\n",
              "      <td>85385.0</td>\n",
              "      <td>431478.0</td>\n",
              "      <td>-346093.0</td>\n",
              "    </tr>\n",
              "    <tr>\n",
              "      <th>3</th>\n",
              "      <td>낙농품, 새의 알, 천연꿀, 다른 류로 분류되지 않은 식용인 동물성 생산품</td>\n",
              "      <td>5739.0</td>\n",
              "      <td>103037.0</td>\n",
              "      <td>-97298.0</td>\n",
              "    </tr>\n",
              "    <tr>\n",
              "      <th>4</th>\n",
              "      <td>다른 류로 분류되지 않은 동물성 생산품</td>\n",
              "      <td>3114.0</td>\n",
              "      <td>27636.0</td>\n",
              "      <td>-24522.0</td>\n",
              "    </tr>\n",
              "    <tr>\n",
              "      <th>...</th>\n",
              "      <td>...</td>\n",
              "      <td>...</td>\n",
              "      <td>...</td>\n",
              "      <td>...</td>\n",
              "    </tr>\n",
              "    <tr>\n",
              "      <th>286</th>\n",
              "      <td>가구, 침구ㆍ매트리스ㆍ매트리스 서포트(mattress support)ㆍ쿠션과 이와 ...</td>\n",
              "      <td>132433.0</td>\n",
              "      <td>313702.0</td>\n",
              "      <td>-181269.0</td>\n",
              "    </tr>\n",
              "    <tr>\n",
              "      <th>287</th>\n",
              "      <td>완구ㆍ게임용구ㆍ운동용구와 이들의 부분품과 부속품</td>\n",
              "      <td>39470.0</td>\n",
              "      <td>264163.0</td>\n",
              "      <td>-224693.0</td>\n",
              "    </tr>\n",
              "    <tr>\n",
              "      <th>288</th>\n",
              "      <td>잡품</td>\n",
              "      <td>50460.0</td>\n",
              "      <td>81505.0</td>\n",
              "      <td>-31045.0</td>\n",
              "    </tr>\n",
              "    <tr>\n",
              "      <th>289</th>\n",
              "      <td>예술품ㆍ수집품ㆍ골동품</td>\n",
              "      <td>12363.0</td>\n",
              "      <td>30127.0</td>\n",
              "      <td>-17764.0</td>\n",
              "    </tr>\n",
              "    <tr>\n",
              "      <th>290</th>\n",
              "      <td>일시적 입법 ; 설치된 간이 수정에 따른 입법을 트레이드한다 ; 추가적 수입제한농업...</td>\n",
              "      <td>0.0</td>\n",
              "      <td>0.0</td>\n",
              "      <td>0.0</td>\n",
              "    </tr>\n",
              "  </tbody>\n",
              "</table>\n",
              "<p>291 rows × 4 columns</p>\n",
              "</div>"
            ],
            "text/plain": [
              "                                                   품목명  ...      무역수지\n",
              "0                                             살아 있는 동물  ...   -3930.0\n",
              "1                                         육과 식용 설육(屑肉)  ... -552387.0\n",
              "2                       어류ㆍ갑각류ㆍ연체동물과 그 밖의 수생(水生) 무척추동물  ... -346093.0\n",
              "3            낙농품, 새의 알, 천연꿀, 다른 류로 분류되지 않은 식용인 동물성 생산품  ...  -97298.0\n",
              "4                                다른 류로 분류되지 않은 동물성 생산품  ...  -24522.0\n",
              "..                                                 ...  ...       ...\n",
              "286  가구, 침구ㆍ매트리스ㆍ매트리스 서포트(mattress support)ㆍ쿠션과 이와 ...  ... -181269.0\n",
              "287                         완구ㆍ게임용구ㆍ운동용구와 이들의 부분품과 부속품  ... -224693.0\n",
              "288                                                 잡품  ...  -31045.0\n",
              "289                                        예술품ㆍ수집품ㆍ골동품  ...  -17764.0\n",
              "290  일시적 입법 ; 설치된 간이 수정에 따른 입법을 트레이드한다 ; 추가적 수입제한농업...  ...       0.0\n",
              "\n",
              "[291 rows x 4 columns]"
            ]
          },
          "metadata": {
            "tags": []
          },
          "execution_count": 148
        }
      ]
    },
    {
      "cell_type": "code",
      "metadata": {
        "colab": {
          "base_uri": "https://localhost:8080/",
          "height": 419
        },
        "id": "Z1DUBCMshm7u",
        "outputId": "a948c294-890e-4aa5-8548-7221ee8c40ca"
      },
      "source": [
        "df2"
      ],
      "execution_count": 147,
      "outputs": [
        {
          "output_type": "execute_result",
          "data": {
            "text/html": [
              "<div>\n",
              "<style scoped>\n",
              "    .dataframe tbody tr th:only-of-type {\n",
              "        vertical-align: middle;\n",
              "    }\n",
              "\n",
              "    .dataframe tbody tr th {\n",
              "        vertical-align: top;\n",
              "    }\n",
              "\n",
              "    .dataframe thead th {\n",
              "        text-align: right;\n",
              "    }\n",
              "</style>\n",
              "<table border=\"1\" class=\"dataframe\">\n",
              "  <thead>\n",
              "    <tr style=\"text-align: right;\">\n",
              "      <th></th>\n",
              "      <th>품목명</th>\n",
              "      <th>수출금액</th>\n",
              "      <th>수입금액</th>\n",
              "      <th>무역수지</th>\n",
              "    </tr>\n",
              "  </thead>\n",
              "  <tbody>\n",
              "    <tr>\n",
              "      <th>0</th>\n",
              "      <td>일시적 입법 ; 설치된 간이 수정에 따른 입법을 트레이드한다 ; 추가적 수입제한농업...</td>\n",
              "      <td>0.0</td>\n",
              "      <td>0.0</td>\n",
              "      <td>0.0</td>\n",
              "    </tr>\n",
              "    <tr>\n",
              "      <th>1</th>\n",
              "      <td>플라스틱과 그 제품</td>\n",
              "      <td>3610415.0</td>\n",
              "      <td>1239085.0</td>\n",
              "      <td>2371330.0</td>\n",
              "    </tr>\n",
              "    <tr>\n",
              "      <th>2</th>\n",
              "      <td>유기화학품</td>\n",
              "      <td>1895875.0</td>\n",
              "      <td>1450118.0</td>\n",
              "      <td>445757.0</td>\n",
              "    </tr>\n",
              "    <tr>\n",
              "      <th>3</th>\n",
              "      <td>철강</td>\n",
              "      <td>2138142.0</td>\n",
              "      <td>1595100.0</td>\n",
              "      <td>543042.0</td>\n",
              "    </tr>\n",
              "    <tr>\n",
              "      <th>4</th>\n",
              "      <td>광학기기ㆍ사진용 기기ㆍ영화용 기기ㆍ측정기기ㆍ검사기기ㆍ정밀기기ㆍ의료용 기기, 이들의 ...</td>\n",
              "      <td>1802847.0</td>\n",
              "      <td>1797337.0</td>\n",
              "      <td>5510.0</td>\n",
              "    </tr>\n",
              "    <tr>\n",
              "      <th>...</th>\n",
              "      <td>...</td>\n",
              "      <td>...</td>\n",
              "      <td>...</td>\n",
              "      <td>...</td>\n",
              "    </tr>\n",
              "    <tr>\n",
              "      <th>286</th>\n",
              "      <td>사진용이나 영화용 재료</td>\n",
              "      <td>101239.0</td>\n",
              "      <td>93439.0</td>\n",
              "      <td>7800.0</td>\n",
              "    </tr>\n",
              "    <tr>\n",
              "      <th>287</th>\n",
              "      <td>당류(糖類)와 설탕과자</td>\n",
              "      <td>28390.0</td>\n",
              "      <td>94123.0</td>\n",
              "      <td>-65733.0</td>\n",
              "    </tr>\n",
              "    <tr>\n",
              "      <th>288</th>\n",
              "      <td>비금속(卑金屬)으로 만든 공구ㆍ도구ㆍ칼붙이ㆍ스푼ㆍ포크, 이들의 부분품</td>\n",
              "      <td>184038.0</td>\n",
              "      <td>95998.0</td>\n",
              "      <td>88040.0</td>\n",
              "    </tr>\n",
              "    <tr>\n",
              "      <th>289</th>\n",
              "      <td>시계와 그 부분품</td>\n",
              "      <td>6369.0</td>\n",
              "      <td>97877.0</td>\n",
              "      <td>-91508.0</td>\n",
              "    </tr>\n",
              "    <tr>\n",
              "      <th>290</th>\n",
              "      <td>커피ㆍ차ㆍ마테(mat?)ㆍ향신료</td>\n",
              "      <td>4630.0</td>\n",
              "      <td>99058.0</td>\n",
              "      <td>-94428.0</td>\n",
              "    </tr>\n",
              "  </tbody>\n",
              "</table>\n",
              "<p>291 rows × 4 columns</p>\n",
              "</div>"
            ],
            "text/plain": [
              "                                                   품목명  ...       무역수지\n",
              "0    일시적 입법 ; 설치된 간이 수정에 따른 입법을 트레이드한다 ; 추가적 수입제한농업...  ...        0.0\n",
              "1                                           플라스틱과 그 제품  ...  2371330.0\n",
              "2                                                유기화학품  ...   445757.0\n",
              "3                                                   철강  ...   543042.0\n",
              "4    광학기기ㆍ사진용 기기ㆍ영화용 기기ㆍ측정기기ㆍ검사기기ㆍ정밀기기ㆍ의료용 기기, 이들의 ...  ...     5510.0\n",
              "..                                                 ...  ...        ...\n",
              "286                                       사진용이나 영화용 재료  ...     7800.0\n",
              "287                                       당류(糖類)와 설탕과자  ...   -65733.0\n",
              "288             비금속(卑金屬)으로 만든 공구ㆍ도구ㆍ칼붙이ㆍ스푼ㆍ포크, 이들의 부분품  ...    88040.0\n",
              "289                                          시계와 그 부분품  ...   -91508.0\n",
              "290                                  커피ㆍ차ㆍ마테(mat?)ㆍ향신료  ...   -94428.0\n",
              "\n",
              "[291 rows x 4 columns]"
            ]
          },
          "metadata": {
            "tags": []
          },
          "execution_count": 147
        }
      ]
    },
    {
      "cell_type": "code",
      "metadata": {
        "id": "PPnI_vryqwSL"
      },
      "source": [
        "df1_grouped = df1.groupby([\"품목명\"],).sum().sort_values(by=\"수입금액\",ascending=False).iloc[:30,:]"
      ],
      "execution_count": 134,
      "outputs": []
    },
    {
      "cell_type": "code",
      "metadata": {
        "id": "nrekaTp_qzkc"
      },
      "source": [
        "df2_grouped = df2.groupby([\"품목명\"],).sum().sort_values(by=\"수입금액\",ascending=False).iloc[:30,:]"
      ],
      "execution_count": 135,
      "outputs": []
    },
    {
      "cell_type": "code",
      "metadata": {
        "id": "wR2ZyxRbrTuS"
      },
      "source": [
        "df3_grouped = pd.merge(df1_grouped,df2_grouped,how=\"left\",left_index=True,right_index=True)"
      ],
      "execution_count": 143,
      "outputs": []
    },
    {
      "cell_type": "code",
      "metadata": {
        "colab": {
          "base_uri": "https://localhost:8080/"
        },
        "id": "Rwhp5T8Mv5vo",
        "outputId": "6f2ce729-ba36-4734-e498-34c92bf31de5"
      },
      "source": [
        "df3_result = df3_grouped[df3_grouped.무역수지_y < df3_grouped.무역수지_x]\n",
        "df3_result[\"diff\"] = df3_result.copy().무역수지_y - df3_result.copy().무역수지_x"
      ],
      "execution_count": 155,
      "outputs": [
        {
          "output_type": "stream",
          "text": [
            "/usr/local/lib/python3.7/dist-packages/ipykernel_launcher.py:2: SettingWithCopyWarning: \n",
            "A value is trying to be set on a copy of a slice from a DataFrame.\n",
            "Try using .loc[row_indexer,col_indexer] = value instead\n",
            "\n",
            "See the caveats in the documentation: https://pandas.pydata.org/pandas-docs/stable/user_guide/indexing.html#returning-a-view-versus-a-copy\n",
            "  \n"
          ],
          "name": "stderr"
        }
      ]
    },
    {
      "cell_type": "code",
      "metadata": {
        "id": "LwYmHSXvwB05"
      },
      "source": [
        "df3_result = df3_result.sort_values(by=\"diff\")"
      ],
      "execution_count": 157,
      "outputs": []
    },
    {
      "cell_type": "code",
      "metadata": {
        "colab": {
          "base_uri": "https://localhost:8080/",
          "height": 596
        },
        "id": "QXMsrAK2w9z0",
        "outputId": "9c6be105-a95a-4874-ac8e-62de172128ab"
      },
      "source": [
        "df3_result"
      ],
      "execution_count": 158,
      "outputs": [
        {
          "output_type": "execute_result",
          "data": {
            "text/html": [
              "<div>\n",
              "<style scoped>\n",
              "    .dataframe tbody tr th:only-of-type {\n",
              "        vertical-align: middle;\n",
              "    }\n",
              "\n",
              "    .dataframe tbody tr th {\n",
              "        vertical-align: top;\n",
              "    }\n",
              "\n",
              "    .dataframe thead th {\n",
              "        text-align: right;\n",
              "    }\n",
              "</style>\n",
              "<table border=\"1\" class=\"dataframe\">\n",
              "  <thead>\n",
              "    <tr style=\"text-align: right;\">\n",
              "      <th></th>\n",
              "      <th>수출금액_x</th>\n",
              "      <th>수입금액_x</th>\n",
              "      <th>무역수지_x</th>\n",
              "      <th>수출금액_y</th>\n",
              "      <th>수입금액_y</th>\n",
              "      <th>무역수지_y</th>\n",
              "      <th>diff</th>\n",
              "    </tr>\n",
              "    <tr>\n",
              "      <th>품목명</th>\n",
              "      <th></th>\n",
              "      <th></th>\n",
              "      <th></th>\n",
              "      <th></th>\n",
              "      <th></th>\n",
              "      <th></th>\n",
              "      <th></th>\n",
              "    </tr>\n",
              "  </thead>\n",
              "  <tbody>\n",
              "    <tr>\n",
              "      <th>철도용이나 궤도용 외의 차량과 그 부분품ㆍ부속품</th>\n",
              "      <td>17147686.0</td>\n",
              "      <td>4614150.0</td>\n",
              "      <td>12533536.0</td>\n",
              "      <td>16873885.0</td>\n",
              "      <td>5979244.0</td>\n",
              "      <td>10894641.0</td>\n",
              "      <td>-1638895.0</td>\n",
              "    </tr>\n",
              "    <tr>\n",
              "      <th>광(鑛)ㆍ슬래그(slag)ㆍ회(灰)</th>\n",
              "      <td>188852.0</td>\n",
              "      <td>4947514.0</td>\n",
              "      <td>-4758662.0</td>\n",
              "      <td>414274.0</td>\n",
              "      <td>6016376.0</td>\n",
              "      <td>-5602102.0</td>\n",
              "      <td>-843440.0</td>\n",
              "    </tr>\n",
              "    <tr>\n",
              "      <th>의료용품</th>\n",
              "      <td>2304497.0</td>\n",
              "      <td>2065695.0</td>\n",
              "      <td>238802.0</td>\n",
              "      <td>1767437.0</td>\n",
              "      <td>2191738.0</td>\n",
              "      <td>-424301.0</td>\n",
              "      <td>-663103.0</td>\n",
              "    </tr>\n",
              "    <tr>\n",
              "      <th>광물성 연료ㆍ광물유(鑛物油)와 이들의 증류물, 역청(瀝靑)물질, 광물성 왁스</th>\n",
              "      <td>7350942.0</td>\n",
              "      <td>27201532.0</td>\n",
              "      <td>-19850590.0</td>\n",
              "      <td>9417166.0</td>\n",
              "      <td>29716518.0</td>\n",
              "      <td>-20299352.0</td>\n",
              "      <td>-448762.0</td>\n",
              "    </tr>\n",
              "    <tr>\n",
              "      <th>철강</th>\n",
              "      <td>5911192.0</td>\n",
              "      <td>3351517.0</td>\n",
              "      <td>2559675.0</td>\n",
              "      <td>6659631.0</td>\n",
              "      <td>4476607.0</td>\n",
              "      <td>2183024.0</td>\n",
              "      <td>-376651.0</td>\n",
              "    </tr>\n",
              "    <tr>\n",
              "      <th>무기화학품, 귀금속ㆍ희토류(稀土類)금속ㆍ방사성원소ㆍ동위원소의 유기화합물이나 무기화합물</th>\n",
              "      <td>1670595.0</td>\n",
              "      <td>2166143.0</td>\n",
              "      <td>-495548.0</td>\n",
              "      <td>1890047.0</td>\n",
              "      <td>2752644.0</td>\n",
              "      <td>-862597.0</td>\n",
              "      <td>-367049.0</td>\n",
              "    </tr>\n",
              "    <tr>\n",
              "      <th>목재와 그 제품, 목탄</th>\n",
              "      <td>19145.0</td>\n",
              "      <td>791092.0</td>\n",
              "      <td>-771947.0</td>\n",
              "      <td>18639.0</td>\n",
              "      <td>1033805.0</td>\n",
              "      <td>-1015166.0</td>\n",
              "      <td>-243219.0</td>\n",
              "    </tr>\n",
              "    <tr>\n",
              "      <th>곡물</th>\n",
              "      <td>1387.0</td>\n",
              "      <td>1049316.0</td>\n",
              "      <td>-1047929.0</td>\n",
              "      <td>17358.0</td>\n",
              "      <td>1238782.0</td>\n",
              "      <td>-1221424.0</td>\n",
              "      <td>-173495.0</td>\n",
              "    </tr>\n",
              "    <tr>\n",
              "      <th>가구, 침구ㆍ매트리스ㆍ매트리스 서포트(mattress support)ㆍ쿠션과 이와 유사한 물품, 다른 류로 분류되지 않은 램프ㆍ조명기구, 조명용 사인ㆍ조명용 네임플레이트(name-plate)와 이와 유사한 물품, 조립식 건축물</th>\n",
              "      <td>358492.0</td>\n",
              "      <td>982880.0</td>\n",
              "      <td>-624388.0</td>\n",
              "      <td>346822.0</td>\n",
              "      <td>1108871.0</td>\n",
              "      <td>-762049.0</td>\n",
              "      <td>-137661.0</td>\n",
              "    </tr>\n",
              "    <tr>\n",
              "      <th>가죽제품, 마구, 여행용구ㆍ핸드백과 이와 유사한 용기, 동물 거트(gut)[누에의 거트(gut)는 제외한다]의 제품</th>\n",
              "      <td>88114.0</td>\n",
              "      <td>927774.0</td>\n",
              "      <td>-839660.0</td>\n",
              "      <td>92483.0</td>\n",
              "      <td>1015272.0</td>\n",
              "      <td>-922789.0</td>\n",
              "      <td>-83129.0</td>\n",
              "    </tr>\n",
              "    <tr>\n",
              "      <th>유연용ㆍ염색용 추출물(extract), 탄닌과 이들의 유도체, 염료ㆍ안료와 그 밖의 착색제, 페인트ㆍ바니시(varnish), 퍼티(putty)와 그 밖의 매스틱(mastic), 잉크</th>\n",
              "      <td>800975.0</td>\n",
              "      <td>672374.0</td>\n",
              "      <td>128601.0</td>\n",
              "      <td>826016.0</td>\n",
              "      <td>762281.0</td>\n",
              "      <td>63735.0</td>\n",
              "      <td>-64866.0</td>\n",
              "    </tr>\n",
              "    <tr>\n",
              "      <th>알루미늄과 그 제품</th>\n",
              "      <td>1043098.0</td>\n",
              "      <td>1813759.0</td>\n",
              "      <td>-770661.0</td>\n",
              "      <td>1227867.0</td>\n",
              "      <td>2060506.0</td>\n",
              "      <td>-832639.0</td>\n",
              "      <td>-61978.0</td>\n",
              "    </tr>\n",
              "    <tr>\n",
              "      <th>유리와 유리제품</th>\n",
              "      <td>529268.0</td>\n",
              "      <td>680599.0</td>\n",
              "      <td>-151331.0</td>\n",
              "      <td>544442.0</td>\n",
              "      <td>739585.0</td>\n",
              "      <td>-195143.0</td>\n",
              "      <td>-43812.0</td>\n",
              "    </tr>\n",
              "    <tr>\n",
              "      <th>육과 식용 설육(屑肉)</th>\n",
              "      <td>9859.0</td>\n",
              "      <td>1428960.0</td>\n",
              "      <td>-1419101.0</td>\n",
              "      <td>12478.0</td>\n",
              "      <td>1463757.0</td>\n",
              "      <td>-1451279.0</td>\n",
              "      <td>-32178.0</td>\n",
              "    </tr>\n",
              "    <tr>\n",
              "      <th>완구ㆍ게임용구ㆍ운동용구와 이들의 부분품과 부속품</th>\n",
              "      <td>104177.0</td>\n",
              "      <td>700536.0</td>\n",
              "      <td>-596359.0</td>\n",
              "      <td>121682.0</td>\n",
              "      <td>740712.0</td>\n",
              "      <td>-619030.0</td>\n",
              "      <td>-22671.0</td>\n",
              "    </tr>\n",
              "  </tbody>\n",
              "</table>\n",
              "</div>"
            ],
            "text/plain": [
              "                                                        수출금액_x  ...       diff\n",
              "품목명                                                             ...           \n",
              "철도용이나 궤도용 외의 차량과 그 부분품ㆍ부속품                          17147686.0  ... -1638895.0\n",
              "광(鑛)ㆍ슬래그(slag)ㆍ회(灰)                                   188852.0  ...  -843440.0\n",
              "의료용품                                                 2304497.0  ...  -663103.0\n",
              "광물성 연료ㆍ광물유(鑛物油)와 이들의 증류물, 역청(瀝靑)물질, 광물성 왁스           7350942.0  ...  -448762.0\n",
              "철강                                                   5911192.0  ...  -376651.0\n",
              "무기화학품, 귀금속ㆍ희토류(稀土類)금속ㆍ방사성원소ㆍ동위원소의 유기화합물이나 무기화합물      1670595.0  ...  -367049.0\n",
              "목재와 그 제품, 목탄                                           19145.0  ...  -243219.0\n",
              "곡물                                                      1387.0  ...  -173495.0\n",
              "가구, 침구ㆍ매트리스ㆍ매트리스 서포트(mattress support)ㆍ쿠션과 이와 유...    358492.0  ...  -137661.0\n",
              "가죽제품, 마구, 여행용구ㆍ핸드백과 이와 유사한 용기, 동물 거트(gut)[누에의 거...     88114.0  ...   -83129.0\n",
              "유연용ㆍ염색용 추출물(extract), 탄닌과 이들의 유도체, 염료ㆍ안료와 그 밖의 ...    800975.0  ...   -64866.0\n",
              "알루미늄과 그 제품                                           1043098.0  ...   -61978.0\n",
              "유리와 유리제품                                              529268.0  ...   -43812.0\n",
              "육과 식용 설육(屑肉)                                            9859.0  ...   -32178.0\n",
              "완구ㆍ게임용구ㆍ운동용구와 이들의 부분품과 부속품                            104177.0  ...   -22671.0\n",
              "\n",
              "[15 rows x 7 columns]"
            ]
          },
          "metadata": {
            "tags": []
          },
          "execution_count": 158
        }
      ]
    },
    {
      "cell_type": "code",
      "metadata": {
        "id": "9wcTl4245QKd"
      },
      "source": [
        ""
      ],
      "execution_count": null,
      "outputs": []
    }
  ]
}